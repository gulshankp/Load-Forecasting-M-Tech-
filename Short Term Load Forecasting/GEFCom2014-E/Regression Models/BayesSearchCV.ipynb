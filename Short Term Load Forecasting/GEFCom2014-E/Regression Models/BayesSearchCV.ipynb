{
 "cells": [
  {
   "cell_type": "code",
   "execution_count": 1,
   "id": "99dfa8de",
   "metadata": {},
   "outputs": [],
   "source": [
    "import numpy as np\n",
    "import pandas as pd"
   ]
  },
  {
   "cell_type": "code",
   "execution_count": 2,
   "id": "4ca61c93",
   "metadata": {},
   "outputs": [],
   "source": [
    "#Data-Preprocessing\n",
    "df=pd.read_csv('GEFCom2014-E - Copy.csv').dropna()\n",
    "df1=df.drop('load',axis=1)\n",
    "from sklearn import preprocessing\n",
    "scaler = preprocessing.MinMaxScaler()\n",
    "names = df1.columns\n",
    "d = scaler.fit_transform(df1)\n",
    "data = pd.DataFrame(d, columns=names)\n",
    "df2=pd.read_csv('GEFCom2014-E.csv').dropna()\n",
    "X_train=data.iloc[17544:61368]\n",
    "y_train=df['load'].iloc[17544:61368]/1000\n",
    "X_test=data.iloc[61368:]\n",
    "y_test=df['load'].iloc[61368:]/1000"
   ]
  },
  {
   "cell_type": "code",
   "execution_count": null,
   "id": "00c36152",
   "metadata": {},
   "outputs": [],
   "source": [
    "#pip install scikit-optimize\n"
   ]
  },
  {
   "cell_type": "code",
   "execution_count": 6,
   "id": "ef98c848",
   "metadata": {},
   "outputs": [
    {
     "name": "stdout",
     "output_type": "stream",
     "text": [
      "OrderedDict([('n_neighbors', 20)])\n",
      "MSE:0.07798276053754792\n"
     ]
    }
   ],
   "source": [
    "#KNN\n",
    "from sklearn.neighbors import KNeighborsClassifier,KNeighborsRegressor\n",
    "from skopt import Optimizer\n",
    "from skopt import BayesSearchCV \n",
    "from skopt.space import Real, Categorical, Integer\n",
    "rf_params = {\n",
    "    'n_neighbors': Integer(1,20),\n",
    "}\n",
    "clf = KNeighborsRegressor()\n",
    "Bayes = BayesSearchCV(clf, rf_params,cv=3,n_iter=10, scoring='neg_mean_squared_error')\n",
    "Bayes.fit(X_train, y_train)\n",
    "ypred=Bayes.predict(X_test)\n",
    "print(Bayes.best_params_)\n",
    "print(\"MSE:\"+ str(-Bayes.best_score_))\n",
    "# Import accuracy score \n",
    "from sklearn.metrics import accuracy_score\n"
   ]
  },
  {
   "cell_type": "code",
   "execution_count": 7,
   "id": "18f6cec2",
   "metadata": {},
   "outputs": [
    {
     "name": "stdout",
     "output_type": "stream",
     "text": [
      "MAE = 0.19 (%)\n",
      "MAPE = 5.71 (%)\n",
      "RSME = 0.25 (%)\n"
     ]
    }
   ],
   "source": [
    "#For MAE\n",
    "mae=np.mean(np.abs(ypred-y_test))\n",
    "print('MAE = {:.2f} (%)'.format(mae))\n",
    "\n",
    "#For MAPE\n",
    "def mean_absolute_percentage_error(y_test, ypred): \n",
    "    return np.mean(np.abs((y_test - ypred)/y_test))*100.\n",
    "mape = mean_absolute_percentage_error(y_test, ypred)\n",
    "print('MAPE = {:.2f} (%)'.format(mape))\n",
    "\n",
    "# For RMSE\n",
    "from sklearn.metrics import mean_squared_error \n",
    "mse=mean_squared_error(y_test,ypred) \n",
    "rsme=np.sqrt(mse) \n",
    "print('RSME = {:.2f} (%)'.format(rsme))"
   ]
  },
  {
   "cell_type": "code",
   "execution_count": null,
   "id": "2d52fc17",
   "metadata": {},
   "outputs": [],
   "source": []
  }
 ],
 "metadata": {
  "kernelspec": {
   "display_name": "Python 3 (ipykernel)",
   "language": "python",
   "name": "python3"
  },
  "language_info": {
   "codemirror_mode": {
    "name": "ipython",
    "version": 3
   },
   "file_extension": ".py",
   "mimetype": "text/x-python",
   "name": "python",
   "nbconvert_exporter": "python",
   "pygments_lexer": "ipython3",
   "version": "3.9.13"
  }
 },
 "nbformat": 4,
 "nbformat_minor": 5
}
