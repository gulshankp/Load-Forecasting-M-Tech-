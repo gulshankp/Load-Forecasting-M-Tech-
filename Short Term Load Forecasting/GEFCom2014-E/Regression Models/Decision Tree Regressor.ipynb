{
 "cells": [
  {
   "cell_type": "code",
   "execution_count": 2,
   "id": "323359ab",
   "metadata": {},
   "outputs": [],
   "source": [
    "import numpy as np\n",
    "import pandas as pd"
   ]
  },
  {
   "cell_type": "code",
   "execution_count": 3,
   "id": "5e1af1f3",
   "metadata": {},
   "outputs": [],
   "source": [
    "#Data-Preprocessing\n",
    "df=pd.read_csv('GEFCom2014-E - Copy.csv').dropna()\n",
    "df1=df.drop('load',axis=1)\n",
    "from sklearn import preprocessing\n",
    "scaler = preprocessing.MinMaxScaler()\n",
    "names = df1.columns\n",
    "d = scaler.fit_transform(df1)\n",
    "data = pd.DataFrame(d, columns=names)\n",
    "df2=pd.read_csv('GEFCom2014-E.csv').dropna()\n",
    "X_train=data.iloc[17544:61368]\n",
    "y_train=df['load'].iloc[17544:61368]/1000\n",
    "X_test=data.iloc[61368:]\n",
    "y_test=df['load'].iloc[61368:]/1000"
   ]
  },
  {
   "cell_type": "code",
   "execution_count": 4,
   "id": "12514d33",
   "metadata": {},
   "outputs": [
    {
     "name": "stdout",
     "output_type": "stream",
     "text": [
      "Results for DecisionTreeRegressor \n",
      "MAE = 0.23 (%)\n",
      "MAPE = 7.03 (%)\n",
      "RSME = 0.31 (%)\n"
     ]
    }
   ],
   "source": [
    "#DTR\n",
    "\n",
    "X_train=data.iloc[17544:61368]\n",
    "y_train=df['load'].iloc[17544:61368]/1000\n",
    "X_test=data.iloc[61368:]\n",
    "y_test=df['load'].iloc[61368:]/1000\n",
    "\n",
    "from sklearn.tree import DecisionTreeRegressor\n",
    "regressor = DecisionTreeRegressor()\n",
    "regressor.fit(X_train, y_train)\n",
    "\n",
    "ypred=regressor.predict(X_test)\n",
    "print('Results for DecisionTreeRegressor ')\n",
    "# Import accuracy score \n",
    "from sklearn.metrics import accuracy_score\n",
    "\n",
    "100*(1-np.mean((ypred-y_test)/y_test))\n",
    "#For MAE\n",
    "mae=np.mean(np.abs(ypred-y_test))\n",
    "print('MAE = {:.2f} (%)'.format(mae))\n",
    "\n",
    "#For MAPE\n",
    "def mean_absolute_percentage_error(y_test, ypred): \n",
    "    return np.mean(np.abs((y_test - ypred)/y_test))*100.\n",
    "mape = mean_absolute_percentage_error(y_test, ypred)\n",
    "print('MAPE = {:.2f} (%)'.format(mape))\n",
    "\n",
    "# For RMSE\n",
    "from sklearn.metrics import mean_squared_error \n",
    "mse=mean_squared_error(y_test,ypred) \n",
    "rsme=np.sqrt(mse) \n",
    "print('RSME = {:.2f} (%)'.format(rsme))\n",
    "ydtr=ypred=regressor.predict(X_test)"
   ]
  },
  {
   "cell_type": "code",
   "execution_count": null,
   "id": "02b3932b",
   "metadata": {},
   "outputs": [],
   "source": []
  }
 ],
 "metadata": {
  "kernelspec": {
   "display_name": "Python 3 (ipykernel)",
   "language": "python",
   "name": "python3"
  },
  "language_info": {
   "codemirror_mode": {
    "name": "ipython",
    "version": 3
   },
   "file_extension": ".py",
   "mimetype": "text/x-python",
   "name": "python",
   "nbconvert_exporter": "python",
   "pygments_lexer": "ipython3",
   "version": "3.9.13"
  }
 },
 "nbformat": 4,
 "nbformat_minor": 5
}
