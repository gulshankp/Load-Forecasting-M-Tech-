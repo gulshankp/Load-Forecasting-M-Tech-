{
 "cells": [
  {
   "cell_type": "code",
   "execution_count": 1,
   "id": "40295b2e",
   "metadata": {},
   "outputs": [],
   "source": [
    "import pandas as pd\n",
    "import numpy as np\n",
    "from datetime import datetime"
   ]
  },
  {
   "cell_type": "code",
   "execution_count": 2,
   "id": "da8ce54c",
   "metadata": {},
   "outputs": [],
   "source": [
    "data=pd.read_csv('GEFCom2014N.csv').dropna()\n",
    "data['load']=data['load']/10000\n",
    "data['T']=data['T']/100\n",
    "# Convert timestamp to datetime format\n",
    "data['Datetime'] = data['Datetime'].apply(lambda x: datetime.strptime(x, '%Y-%m-%d %H:%M:%S'))\n",
    "\n",
    "# Set the datetime as index\n",
    "data.set_index('Datetime', inplace=True)\n",
    "\n",
    "# Resample the data to hourly frequency\n",
    "data = data.resample('H').mean()\n",
    "\n",
    "# Create lag features\n",
    "for i in range(1, 25):\n",
    "    data['lag_{}'.format(i)] = data['load'].shift(i)\n",
    "\n",
    "# Create rolling mean and standard deviation features\n",
    "data['rolling_mean'] = data['load'].rolling(window=24).mean()\n",
    "data['rolling_std'] = data['load'].rolling(window=24).std()\n",
    "\n",
    "# Create weekday and hour features\n",
    "data['weekday'] = data.index.weekday\n",
    "data['hour'] = data.index.hour\n",
    "\n",
    "# Remove missing values\n",
    "data.dropna(inplace=True)\n",
    "\n",
    "# Split the data into train and test sets\n",
    "train_size = int(len(data) * 0.8)\n",
    "train_data = data[:train_size]\n",
    "test_data = data[train_size:]"
   ]
  },
  {
   "cell_type": "code",
   "execution_count": 3,
   "id": "5c0ee091",
   "metadata": {},
   "outputs": [
    {
     "name": "stdout",
     "output_type": "stream",
     "text": [
      "Epoch 1/50\n",
      "986/986 [==============================] - 74s 72ms/step - loss: 0.0182 - val_loss: 0.0032\n",
      "Epoch 2/50\n",
      "986/986 [==============================] - 68s 68ms/step - loss: 0.0034 - val_loss: 0.0032\n",
      "Epoch 3/50\n",
      "986/986 [==============================] - 66s 67ms/step - loss: 0.0034 - val_loss: 0.0032\n",
      "Epoch 4/50\n",
      "986/986 [==============================] - 67s 68ms/step - loss: 0.0034 - val_loss: 0.0032\n",
      "Epoch 5/50\n",
      "986/986 [==============================] - 72s 73ms/step - loss: 0.0034 - val_loss: 0.0032\n",
      "Epoch 6/50\n",
      "986/986 [==============================] - 71s 72ms/step - loss: 0.0034 - val_loss: 0.0032\n",
      "Epoch 7/50\n",
      "986/986 [==============================] - 67s 68ms/step - loss: 0.0034 - val_loss: 0.0032\n",
      "Epoch 8/50\n",
      "986/986 [==============================] - 67s 68ms/step - loss: 0.0034 - val_loss: 0.0032\n",
      "Epoch 9/50\n",
      "986/986 [==============================] - 69s 70ms/step - loss: 0.0034 - val_loss: 0.0032\n",
      "493/493 [==============================] - 5s 10ms/step\n",
      "493/493 [==============================] - 5s 10ms/step\n"
     ]
    }
   ],
   "source": [
    "#Transformer\n",
    "import tensorflow as tf\n",
    "from tensorflow.keras.models import Model\n",
    "from tensorflow.keras.layers import Input, Dense, Dropout, LayerNormalization\n",
    "from tensorflow.keras.callbacks import EarlyStopping\n",
    "from sklearn.metrics import mean_squared_error\n",
    "\n",
    "# Prepare the train and test data\n",
    "X_train, y_train = train_data.drop('load', axis=1), train_data['load']\n",
    "X_test, y_test = test_data.drop('load', axis=1), test_data['load']\n",
    "\n",
    "# Define the input shape\n",
    "seq_len = X_train.shape[1]\n",
    "n_features = 1\n",
    "\n",
    "# Reshape the data for Transformer\n",
    "X_train = X_train.values.reshape(X_train.shape[0], seq_len, n_features)\n",
    "X_test = X_test.values.reshape(X_test.shape[0], seq_len, n_features)\n",
    "\n",
    "# Define the Transformer model\n",
    "inputs = Input(shape=(seq_len, n_features))\n",
    "x = inputs\n",
    "\n",
    "# Add self-attention layers\n",
    "for _ in range(2):\n",
    "    x = tf.keras.layers.MultiHeadAttention(num_heads=8, key_dim=32)(x, x)\n",
    "    x = LayerNormalization(epsilon=1e-6)(x)\n",
    "    x = Dropout(0.1)(x)\n",
    "    x = tf.keras.layers.Dense(32, activation=\"relu\")(x)\n",
    "\n",
    "# Flatten and add output layer\n",
    "x = tf.keras.layers.Flatten()(x)\n",
    "outputs = Dense(1)(x)\n",
    "\n",
    "model = Model(inputs=inputs, outputs=outputs)\n",
    "\n",
    "# Compile the model\n",
    "model.compile(loss='mse', optimizer='adam')\n",
    "\n",
    "# Train the model\n",
    "history = model.fit(X_train, y_train, epochs=50, batch_size=64, validation_data=(X_test, y_test), callbacks=[EarlyStopping(patience=5, restore_best_weights=True)])\n",
    "\n",
    "# Evaluate the model\n",
    "from sklearn.metrics import mean_absolute_error, mean_squared_error\n",
    "mae = history.history['val_loss'][-1]\n",
    "mse = mean_squared_error(y_test, model.predict(X_test))\n",
    "rmse = np.sqrt(mse)\n",
    "\n",
    "ypred = model.predict(X_test)\n",
    "y_test=test_data['load']\n",
    "y_transformer=ypred\n"
   ]
  },
  {
   "cell_type": "code",
   "execution_count": 4,
   "id": "b3160e98",
   "metadata": {},
   "outputs": [
    {
     "name": "stdout",
     "output_type": "stream",
     "text": [
      "MAE = 0.05 (%)\n",
      "MAPE = 14.71 (%)\n",
      "RSME = 0.06 (%)\n"
     ]
    }
   ],
   "source": [
    "#For MAE\n",
    "mae = np.mean(np.abs(ypred.ravel() - y_test.ravel()))\n",
    "print('MAE = {:.2f} (%)'.format(mae))\n",
    "\n",
    "#For MAPE\n",
    "mape = np.mean(np.abs((y_test.ravel() - ypred.ravel()) / y_test.ravel())) * 100\n",
    "print('MAPE = {:.2f} (%)'.format(mape))\n",
    "\n",
    "\n",
    "# For RMSE\n",
    "from sklearn.metrics import mean_squared_error \n",
    "mse=mean_squared_error(y_test,ypred) \n",
    "rsme=np.sqrt(mse) \n",
    "print('RSME = {:.2f} (%)'.format(rsme))"
   ]
  },
  {
   "cell_type": "code",
   "execution_count": null,
   "id": "d9a29bd5",
   "metadata": {},
   "outputs": [],
   "source": []
  }
 ],
 "metadata": {
  "kernelspec": {
   "display_name": "Python 3 (ipykernel)",
   "language": "python",
   "name": "python3"
  },
  "language_info": {
   "codemirror_mode": {
    "name": "ipython",
    "version": 3
   },
   "file_extension": ".py",
   "mimetype": "text/x-python",
   "name": "python",
   "nbconvert_exporter": "python",
   "pygments_lexer": "ipython3",
   "version": "3.9.13"
  }
 },
 "nbformat": 4,
 "nbformat_minor": 5
}
