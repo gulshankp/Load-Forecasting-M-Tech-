{
 "cells": [
  {
   "cell_type": "code",
   "execution_count": 1,
   "id": "da279a59",
   "metadata": {},
   "outputs": [],
   "source": [
    "#Import Libraries\n",
    "import pandas as pd\n",
    "import numpy as np\n",
    "from datetime import datetime"
   ]
  },
  {
   "cell_type": "code",
   "execution_count": 2,
   "id": "675e0220",
   "metadata": {},
   "outputs": [],
   "source": [
    "# Load the data\n",
    "data = pd.read_csv('continuous dataset.csv')"
   ]
  },
  {
   "cell_type": "code",
   "execution_count": 3,
   "id": "d9976d96",
   "metadata": {},
   "outputs": [],
   "source": [
    "# Convert timestamp to datetime format\n",
    "data['datetime'] = data['datetime'][:45261].apply(lambda x: datetime.strptime(x, '%d-%m-%Y %H:%M'))"
   ]
  },
  {
   "cell_type": "code",
   "execution_count": 4,
   "id": "72c55a91",
   "metadata": {},
   "outputs": [],
   "source": [
    "# Set the datetime as index\n",
    "data.set_index('datetime', inplace=True)"
   ]
  },
  {
   "cell_type": "code",
   "execution_count": 5,
   "id": "65e9cb65",
   "metadata": {},
   "outputs": [],
   "source": [
    "# Resample the data to hourly frequency\n",
    "data = data.resample('H').mean()"
   ]
  },
  {
   "cell_type": "code",
   "execution_count": 6,
   "id": "f076414b",
   "metadata": {},
   "outputs": [],
   "source": [
    "# Create lag features\n",
    "for i in range(1, 25):\n",
    "    data['lag_{}'.format(i)] = data['nat_demand'].shift(i)"
   ]
  },
  {
   "cell_type": "code",
   "execution_count": 7,
   "id": "4fdfbed3",
   "metadata": {},
   "outputs": [],
   "source": [
    "# Create rolling mean and standard deviation features\n",
    "data['rolling_mean'] = data['nat_demand'].rolling(window=24).mean()\n",
    "data['rolling_std'] = data['nat_demand'].rolling(window=24).std()"
   ]
  },
  {
   "cell_type": "code",
   "execution_count": 8,
   "id": "4c284e29",
   "metadata": {},
   "outputs": [],
   "source": [
    "# Create weekday and hour features\n",
    "data['weekday'] = data.index.weekday\n",
    "data['hour'] = data.index.hour"
   ]
  },
  {
   "cell_type": "code",
   "execution_count": 9,
   "id": "f9a504d1",
   "metadata": {},
   "outputs": [],
   "source": [
    "# Remove missing values\n",
    "data.dropna(inplace=True)"
   ]
  },
  {
   "cell_type": "code",
   "execution_count": 10,
   "id": "03c05026",
   "metadata": {},
   "outputs": [],
   "source": [
    "# Split the data into train and test sets\n",
    "train_size = int(len(data) * 0.8)\n",
    "train_data = data[:train_size]/1000\n",
    "test_data = data[train_size:]/1000"
   ]
  },
  {
   "cell_type": "code",
   "execution_count": 11,
   "id": "46848a4a",
   "metadata": {},
   "outputs": [],
   "source": [
    "#Saving as HDF5 or Feather\n",
    "train_data.to_hdf('preprocessed_train_data.h5', key='data', mode='w')\n",
    "test_data.to_hdf('preprocessed_test_data.h5', key='data', mode='w')"
   ]
  }
 ],
 "metadata": {
  "kernelspec": {
   "display_name": "Python 3 (ipykernel)",
   "language": "python",
   "name": "python3"
  },
  "language_info": {
   "codemirror_mode": {
    "name": "ipython",
    "version": 3
   },
   "file_extension": ".py",
   "mimetype": "text/x-python",
   "name": "python",
   "nbconvert_exporter": "python",
   "pygments_lexer": "ipython3",
   "version": "3.9.13"
  }
 },
 "nbformat": 4,
 "nbformat_minor": 5
}
