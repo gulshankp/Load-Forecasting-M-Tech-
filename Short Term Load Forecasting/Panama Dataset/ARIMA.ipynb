{
 "cells": [
  {
   "cell_type": "code",
   "execution_count": 1,
   "id": "f01d981f",
   "metadata": {},
   "outputs": [],
   "source": [
    "#Data Preprocessing\n",
    "import pandas as pd\n",
    "import numpy as np\n",
    "from datetime import datetime\n",
    "\n",
    "# Load the data\n",
    "data = pd.read_csv('continuous dataset.csv')\n",
    "\n",
    "# Convert timestamp to datetime format\n",
    "data['datetime'] = data['datetime'][:45261].apply(lambda x: datetime.strptime(x, '%d-%m-%Y %H:%M'))\n",
    "\n",
    "# Set the datetime as index\n",
    "data.set_index('datetime', inplace=True)\n",
    "\n",
    "# Resample the data to hourly frequency\n",
    "data = data.resample('H').mean()\n",
    "\n",
    "# Create lag features\n",
    "for i in range(1, 25):\n",
    "    data['lag_{}'.format(i)] = data['nat_demand'].shift(i)\n",
    "\n",
    "# Create rolling mean and standard deviation features\n",
    "data['rolling_mean'] = data['nat_demand'].rolling(window=24).mean()\n",
    "data['rolling_std'] = data['nat_demand'].rolling(window=24).std()\n",
    "\n",
    "# Create weekday and hour features\n",
    "data['weekday'] = data.index.weekday\n",
    "data['hour'] = data.index.hour\n",
    "\n",
    "# Remove missing values\n",
    "data.dropna(inplace=True)\n",
    "\n",
    "# Split the data into train and test sets\n",
    "train_size = int(len(data) * 0.8)\n",
    "train_data = data[:train_size]/1000\n",
    "test_data = data[train_size:]/1000\n"
   ]
  },
  {
   "cell_type": "code",
   "execution_count": 2,
   "id": "fbe2531c",
   "metadata": {},
   "outputs": [
    {
     "name": "stderr",
     "output_type": "stream",
     "text": [
      "C:\\Users\\gulsh\\anaconda32\\lib\\site-packages\\statsmodels\\tsa\\base\\tsa_model.py:471: ValueWarning: No frequency information was provided, so inferred frequency H will be used.\n",
      "  self._init_dates(dates, freq)\n",
      "C:\\Users\\gulsh\\anaconda32\\lib\\site-packages\\statsmodels\\tsa\\base\\tsa_model.py:471: ValueWarning: No frequency information was provided, so inferred frequency H will be used.\n",
      "  self._init_dates(dates, freq)\n",
      "C:\\Users\\gulsh\\anaconda32\\lib\\site-packages\\statsmodels\\tsa\\base\\tsa_model.py:471: ValueWarning: No frequency information was provided, so inferred frequency H will be used.\n",
      "  self._init_dates(dates, freq)\n"
     ]
    },
    {
     "name": "stdout",
     "output_type": "stream",
     "text": [
      "MAE: 0.16332795778170306\n",
      "MSE: 0.03692035629195875\n",
      "RMSE: 0.19214670512907253\n",
      "MAE = 0.16 (%)\n",
      "MAPE = 13.65 (%)\n",
      "RSME = 0.19 (%)\n"
     ]
    }
   ],
   "source": [
    "#ARIMA\n",
    "from statsmodels.tsa.arima.model import ARIMA\n",
    "\n",
    "# Fit the ARIMA model\n",
    "model = ARIMA(train_data['nat_demand'], order=(5, 1, 0))\n",
    "model_fit = model.fit()\n",
    "\n",
    "# Make predictions on the test set\n",
    "predictions = model_fit.predict(start=len(train_data), end=len(data)-1, typ='levels')\n",
    "\n",
    "# Evaluate the model\n",
    "from sklearn.metrics import mean_absolute_error, mean_squared_error\n",
    "\n",
    "mae = mean_absolute_error(test_data['nat_demand'], predictions)\n",
    "mse = mean_squared_error(test_data['nat_demand'], predictions)\n",
    "rmse = np.sqrt(mse)\n",
    "\n",
    "print('MAE:', mae)\n",
    "print('MSE:', mse)\n",
    "print('RMSE:', rmse)\n",
    "ypred=predictions\n",
    "y_test=test_data['nat_demand']\n",
    "\n",
    "#For MAE\n",
    "mae=np.mean(np.abs(ypred-y_test))\n",
    "print('MAE = {:.2f} (%)'.format(mae))\n",
    "\n",
    "#For MAPE\n",
    "def mean_absolute_percentage_error(y_test, ypred): \n",
    "    return np.mean(np.abs((y_test - ypred)/y_test))*100.\n",
    "mape = mean_absolute_percentage_error(y_test, ypred)\n",
    "print('MAPE = {:.2f} (%)'.format(mape))\n",
    "\n",
    "# For RMSE\n",
    "from sklearn.metrics import mean_squared_error \n",
    "mse=mean_squared_error(y_test,ypred) \n",
    "rsme=np.sqrt(mse) \n",
    "print('RSME = {:.2f} (%)'.format(rsme))"
   ]
  },
  {
   "cell_type": "code",
   "execution_count": null,
   "id": "51321737",
   "metadata": {},
   "outputs": [],
   "source": []
  }
 ],
 "metadata": {
  "kernelspec": {
   "display_name": "Python 3 (ipykernel)",
   "language": "python",
   "name": "python3"
  },
  "language_info": {
   "codemirror_mode": {
    "name": "ipython",
    "version": 3
   },
   "file_extension": ".py",
   "mimetype": "text/x-python",
   "name": "python",
   "nbconvert_exporter": "python",
   "pygments_lexer": "ipython3",
   "version": "3.9.13"
  }
 },
 "nbformat": 4,
 "nbformat_minor": 5
}
